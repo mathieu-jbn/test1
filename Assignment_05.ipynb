{
 "cells": [
  {
   "cell_type": "markdown",
   "metadata": {
    "id": "TSfQb_3w9CP3",
    "tags": []
   },
   "source": [
    "# Assignment 5: Programming IV\n",
    "\n",
    "Please read the tasks description carefully and implement **only** what the tasks wants you to implement. Follow the instructions from the task description. There might be tasks that require you to write things you would do differently **but** you have to stay with the description. The test cases below each input cell is the gold standard. For this assignment, you do not need any error handling, you can assume that all input to your function will be valid.\n",
    "\n",
    "In this or any other assignment, using `print` is encouraged to test your implementation but is is **never** required to use it. If your function has to **return** something, use the `return` statement. A `print` is **not** a `return`.\n",
    "\n",
    "Try to implement the tasks yourself or in a small team. If you blindly copy a solution from the internet or other students, you will not learn anything from it. Understand the solution! This takes practice.\n",
    "\n",
    "_Hint: If the test case succeeds, delete your solution and redo it the next day._\n",
    "\n",
    "Do not modify the _test cells_, by doing so you cheat your solution which is not helpful for your learning process.\n",
    "\n",
    "<p style=\"background:rgba(250, 100, 100, 0.4)\">From this assignment on, they require you to <strong>self-study</strong> and do further research than the content from the lecture will give you.</p>\n",
    "\n",
    "Use your favorite search engine to look up documentation, usage examples, and definitions of the mentioned functions.\n",
    "\n",
    "> **We can only show you the door. You're the one that has to walk through it.**"
   ]
  },
  {
   "cell_type": "markdown",
   "metadata": {},
   "source": [
    "---\n",
    "# Task 1: Using a class\n",
    "\n",
    "The following class `Person` will be used throughout this whole assingment.\n",
    "\n",
    "Read and understand what this class represents and which instance methods it provides."
   ]
  },
  {
   "cell_type": "code",
   "execution_count": 1,
   "metadata": {},
   "outputs": [],
   "source": [
    "# We define following class `Person`.\n",
    "\n",
    "# Do not change this cell but you have to run it to have\n",
    "# the Person class in scope.\n",
    "\n",
    "class Person:\n",
    "    \"\"\"\n",
    "    This is a Person class.\n",
    "    Each person has a name (str) and a year_of_birth (int).\n",
    "    Also, each instance of a Person can compute their own age\n",
    "    by calling .compute_age().\n",
    "    Printing a person is done calling the __str__ method: we want\n",
    "    the name of the person followed by their age in parentheses.\n",
    "    \"\"\"\n",
    "    def __init__(self, name, year_of_birth):\n",
    "        \"\"\"\n",
    "        Constructor: We have to set the name and year_of_birth.\n",
    "\n",
    "        name: str\n",
    "        year_of_birth: int\n",
    "        \"\"\"\n",
    "        self.name = name\n",
    "        self.year_of_birth = year_of_birth\n",
    "\n",
    "    def compute_age(self):\n",
    "        \"\"\"\n",
    "        We compute the age of a person by subtracting their\n",
    "        year of birth from 2024.\n",
    "        \n",
    "        (Yes, in a productive environment, you would take the current year\n",
    "        instead of a hardcoded literal 2024.)\n",
    "        \"\"\"\n",
    "        return 2024 - self.year_of_birth\n",
    "\n",
    "    def __str__(self):\n",
    "        \"\"\"\n",
    "        We use a format string to return the Person converted to a string\n",
    "        in the following format: \"Name (Age)\"\n",
    "        Example:\n",
    "            str(Person(\"Guido van Rossum\", 1956))\n",
    "            >>> \"Guido van Rossum (68)\"\n",
    "        \"\"\"\n",
    "        return f\"{self.name} ({self.compute_age()})\""
   ]
  },
  {
   "cell_type": "markdown",
   "metadata": {},
   "source": [
    "## Task 1.1\n",
    "Use the given `Person` class to instantantiate a `list` named `persons` with the following persons:\n",
    "\n",
    "- Bucky Barnes, born 1917\n",
    "- Steve Rogers, born 1918\n",
    "- Tony Stark, born 1976\n",
    "- Bruce Banner, born 1969\n",
    "- Rhodey Rhodes, born 1968\n",
    "- Wanda Maximoff, born 1989\n",
    "- Vision, born 2015\n",
    "- Peter Parker, born 2001\n",
    "- Peter Quill, born 1980\n",
    "- Monica Rambeau, born 1984\n",
    "- Carol Danvers, born 1964"
   ]
  },
  {
   "cell_type": "code",
   "execution_count": 2,
   "metadata": {},
   "outputs": [],
   "source": [
    "# Add your code here:\n",
    "persons = [\n",
    "    Person(\"Bucky Barnes\", 1917),\n",
    "    Person(\"Steve Rogers\", 1918),\n",
    "    Person(\"Tony Stark\", 1976),\n",
    "    Person(\"Bruce Banner\", 1969),\n",
    "    Person(\"Rhodey Rhodes\", 1968),\n",
    "    Person(\"Wanda Maximoff\", 1989),\n",
    "    Person(\"Vision\", 2015),\n",
    "    Person(\"Peter Parker\", 2001),\n",
    "    Person(\"Peter Quill\", 1980),\n",
    "    Person(\"Monica Rambeau\", 1984),\n",
    "    Person(\"Carol Danvers\", 1964)\n",
    "]\n"
   ]
  },
  {
   "cell_type": "code",
   "execution_count": 3,
   "metadata": {},
   "outputs": [
    {
     "name": "stdout",
     "output_type": "stream",
     "text": [
      "\n",
      "\u001b[37;42;2m  Success! Your code works as intended.  \u001b[0m\n",
      "\n"
     ]
    }
   ],
   "source": [
    "# Test Case; Do not modify.\n",
    "from unittest import TestCase\n",
    "test_case = TestCase()\n",
    "\n",
    "# Test if `persons` is a list.\n",
    "test_case.assertIsInstance(persons, list, msg='The `persons` variable is not a list.')\n",
    "\n",
    "# Test if all elements in the list are persons\n",
    "test_case.assertTrue(all(isinstance(p, Person) for p in persons), msg='At least one entry in `persons` is not a Person.')\n",
    "\n",
    "# Check for equality\n",
    "# We're using a set because our order might be different from yours.\n",
    "test_case.assertEqual(\n",
    "    set(map(str, persons)),\n",
    "    {'Steve Rogers (106)', 'Bucky Barnes (107)', 'Peter Parker (23)', 'Peter Quill (44)', 'Monica Rambeau (40)', 'Rhodey Rhodes (56)', 'Carol Danvers (60)', 'Tony Stark (48)', 'Wanda Maximoff (35)', 'Bruce Banner (55)', 'Vision (9)'},\n",
    "    msg=\"The two lists differ.\"\n",
    ")\n",
    "\n",
    "print(\"\\n\\033[37;42;2m  Success! Your code works as intended.  \\033[0m\\n\")"
   ]
  },
  {
   "cell_type": "markdown",
   "metadata": {},
   "source": [
    "## Task 1.2: Minimum and Maximum\n",
    "Find the **youngest** and **oldest** person in the given list.\n",
    "Save them in the variables `youngest` and `oldest`. Save the actual instance of the person in the variable and **not** just a string.\n",
    "\n",
    "_Hint: The easiest solution is using a `for` loop. However, you could use the [`min`](https://docs.python.org/3/library/functions.html#min) and [`max`](https://docs.python.org/3/library/functions.html#max) functions with a self-defined `lambda` function as comparator._\n"
   ]
  },
  {
   "cell_type": "code",
   "execution_count": null,
   "metadata": {},
   "outputs": [],
   "source": [
    "# Add your code here:\n",
    "\n",
    "for person in persons :\n"
   ]
  },
  {
   "cell_type": "code",
   "execution_count": null,
   "metadata": {},
   "outputs": [],
   "source": [
    "# Test Cell. Do not modify\n",
    "from unittest import TestCase\n",
    "test_case = TestCase()\n",
    "\n",
    "# The youngest one is Vision:\n",
    "test_case.assertEqual(str(youngest), \"Vision (9)\")\n",
    "\n",
    "# The oldest is Bucky Barnes\n",
    "test_case.assertEqual(str(oldest), \"Bucky Barnes (107)\")\n",
    "\n",
    "print(\"\\n\\033[37;42;2m  Success! Your code works as intended.  \\033[0m\\n\")"
   ]
  },
  {
   "cell_type": "markdown",
   "metadata": {},
   "source": [
    "## Task 1.3: f-strings\n",
    "\n",
    "Use format strings (`f\"\"`) to `print` a table of all `persons` in the following format.\n",
    "\n",
    "The result should look like this: (there is no test case)\n",
    "\n",
    "```\n",
    "Name           Year of Birth Age\n",
    "--------------------------------\n",
    "Bucky Barnes            1917 107\n",
    "Steve Rogers            1918 106\n",
    "Tony Stark              1976  48\n",
    "Bruce Banner            1969  55\n",
    "Rhodey Rhodes           1968  56\n",
    "Wanda Maximoff          1989  35\n",
    "Vision                  2015   9\n",
    "Peter Parker            2001  23\n",
    "Peter Quill             1980  44\n",
    "Monica Rambeau          1984  40\n",
    "Carol Danvers           1964  60\n",
    "```\n",
    "\n",
    "(It is enough if it looks roughly the same. As an advanced challege, try to make it look exactly the same: The name must be left-aligned, year of birth and age right-aligned.)"
   ]
  },
  {
   "cell_type": "code",
   "execution_count": 8,
   "metadata": {},
   "outputs": [
    {
     "name": "stdout",
     "output_type": "stream",
     "text": [
      "Name           Year of Birth   Age\n",
      "----------------------------------\n",
      "Bucky Barnes            1917   107\n",
      "Steve Rogers            1918   106\n",
      "Tony Stark              1976    48\n",
      "Bruce Banner            1969    55\n",
      "Rhodey Rhodes           1968    56\n",
      "Wanda Maximoff          1989    35\n",
      "Vision                  2015     9\n",
      "Peter Parker            2001    23\n",
      "Peter Quill             1980    44\n",
      "Monica Rambeau          1984    40\n",
      "Carol Danvers           1964    60\n"
     ]
    }
   ],
   "source": [
    "# Add your code here:\n",
    "\n",
    "print(\"Name           Year of Birth   Age\")\n",
    "print(\"----------------------------------\")\n",
    "for person in persons:\n",
    "    print(f\"{person.name:<15} {person.year_of_birth:>12} {person.compute_age():>5}\")"
   ]
  },
  {
   "cell_type": "markdown",
   "metadata": {},
   "source": [
    "---\n",
    "# Task 1.4: Filter\n",
    "Use a `filter` function call to extract exactly these `Person`(s) out of the `persons` list that are said to be in *Generation X* (born between 1965 and 1979 (inclusive))\n",
    "\n",
    "- Store the result in a `list` called `gen_x`.\n",
    "\n",
    "Afterwards, try to `print` the resulting list? What happens here and why doesn't it work?"
   ]
  },
  {
   "cell_type": "code",
   "execution_count": 11,
   "metadata": {},
   "outputs": [
    {
     "name": "stdout",
     "output_type": "stream",
     "text": [
      "[<__main__.Person object at 0x1102e8250>, <__main__.Person object at 0x1102e8c90>, <__main__.Person object at 0x1102e8650>]\n"
     ]
    }
   ],
   "source": [
    "# Add your code here:\n",
    "gen_x = list(filter(lambda p: 1965 <= p.year_of_birth <= 1979, persons))\n",
    "\n",
    "print (gen_x)\n"
   ]
  },
  {
   "cell_type": "code",
   "execution_count": 10,
   "metadata": {},
   "outputs": [
    {
     "name": "stdout",
     "output_type": "stream",
     "text": [
      "\n",
      "\u001b[37;42;2m  Success! Your code works as intended.  \u001b[0m\n",
      "\n"
     ]
    }
   ],
   "source": [
    "# Test code, don't modify\n",
    "from unittest import TestCase\n",
    "test_case = TestCase()\n",
    "\n",
    "test_case.assertEqual(set(map(str, gen_x)), {'Tony Stark (48)', 'Rhodey Rhodes (56)', 'Bruce Banner (55)'})\n",
    "\n",
    "print(\"\\n\\033[37;42;2m  Success! Your code works as intended.  \\033[0m\\n\")"
   ]
  },
  {
   "cell_type": "markdown",
   "metadata": {},
   "source": [
    "---\n",
    "# Task 2: Superheroes\n",
    "Apart from being a Person, we can have Superheroes.\n",
    "\n",
    "## Task 2.1: The Class `Superhero`\n",
    "Your task is to define a new class called `Superhero` that **inherits** from the `Person` class but has the additional required instance variables `alias` (the superhero name as a `str`) and a `powerlevel` (`int`).\n",
    "\n",
    "## Task 2.2 The dunder methods: `__str__` and `__repr__`\n",
    "Implement the `__str__` instance method of the `Superhero` class that prints the alias and the powerlevel. If the powerlevel is smaller or equal to 0, it must use `DEFEATED` instead of the integer value.\n",
    "\n",
    "Example:\n",
    "```python\n",
    "print(hulk) \n",
    ">>> \"Hulk: 600\"\n",
    "````\n",
    "or when powerlevel ≤ 0:\n",
    "```python\n",
    "print(hulk) \n",
    ">>> \"Hulk: DEFEATED\"\n",
    "````\n",
    "\n",
    "In the `__repr__` instance method, add to the string the other information of the Superhero from the superclass (name and age). Do not duplicate the code from the `Person` class but **call** the actual `__str__` method of the superclass.\n",
    "\n",
    "```python\n",
    "hulk\n",
    ">>> \"Hulk: 600 (Bruce Banner (55))\"\n",
    "````\n",
    "or when powerlevel ≤ 0:\n",
    "```python\n",
    "hulk\n",
    ">>> \"Hulk: DEFEATED (Bruce Banner (55))\"\n",
    "````\n",
    "\n",
    "\n",
    "## Task 2.3: The `.fight()` instance method\n",
    "A superhero in addtion has the ability to fight another superhero: this is modelled by the instance method `fight(self, enemy)`. The argument `enemy` is an instance of `Superhero`.\n",
    "\n",
    "A fight is modeled by subtracting **half** the powerlevels from one another (use integer divison //). A powerlevel can't be lower than 0. So if the incoming damage is too high, set it to 0 anyway.\n",
    "\n",
    "When _Hulk_ fights _Vision_:\n",
    "Hulk has a current powerlevel of 600.\n",
    "Vision has a current powerlevel of 850.\n",
    "We subtract 600//2 from Vision's powerlevel and 850//2 from Hulks powerlevel.\n",
    "\n",
    "Meaning the new powerlevel of Hulk is 175 and Vision's will be 525.\n",
    "\n",
    "(Use the *current* powerlevel to compute the difference and be careful **not** to subtract the already subtracted result.)\n",
    "\n",
    "\n",
    "## Task 2.4: The Fight\n",
    "Read below to let the instantiated superheroes fight.\n",
    "\n",
    "After each fight, print the result, meaning calling the `__str__` function of the involved superheroes **implicitly** (either with `str()` or a f-string).\n",
    "\n",
    "It should look similar to this:\n",
    "```\n",
    "Fight between Scarlett Witch and Iron-Man:\n",
    "\t Scarlett Witch: 825 \n",
    "\t Iron-Man: DEFEATED\n",
    "```"
   ]
  },
  {
   "cell_type": "code",
   "execution_count": null,
   "metadata": {},
   "outputs": [],
   "source": [
    "# Add your code here:\n",
    "\n"
   ]
  },
  {
   "cell_type": "markdown",
   "metadata": {},
   "source": [
    "**The Fight**\n",
    "\n",
    "1. Steve fights Bucky\n",
    "1. Tony fights Steve\n",
    "1. Wanda fights Vision\n",
    "1. Vision fights Rhodey\n",
    "1. Spiderman fights Starlord\n",
    "1. Tony fights Starlord\n",
    "1. Hulk fights Tony\n",
    "1. Carol fights Vision\n",
    "1. Wanda fights Photon.\n",
    "1. Photon fights Hulk.\n",
    "\n",
    "\n",
    "Note, that after each call to `.fight()`, the powerlevel of _both_ heroes changes. Run the cell below to reset the instances.\n",
    "\n",
    "After the fight, print all 'DEFEATED' heroes by using the `repr()` function. "
   ]
  },
  {
   "cell_type": "code",
   "execution_count": null,
   "metadata": {},
   "outputs": [],
   "source": [
    "# We instantiate a few heros (Don't modify this cell.)\n",
    "bucky     = Superhero(\"Bucky Barnes\",   1917, 'Winter Soldier',   50)\n",
    "steve     = Superhero(\"Steve Rogers\",   1918, 'Captain America', 250)\n",
    "tony      = Superhero(\"Tony Stark\",     1976, 'Iron-Man',        150)\n",
    "hulk      = Superhero(\"Bruce Banner\",   1969, 'Hulk',            600)\n",
    "rhodey    = Superhero(\"Rhodey Rhodes\",  1968, 'War Machine',     100)\n",
    "wanda     = Superhero(\"Wanda Maximoff\", 1989, 'Scarlett Witch',  900)\n",
    "vision    = Superhero(\"Vision\",         2015, 'Vision',          850)\n",
    "spiderman = Superhero(\"Peter Parker\",   2001, 'Spider-Man',      180)\n",
    "starlord  = Superhero(\"Peter Quill\",    1980, 'Starlord',         10)\n",
    "photon    = Superhero(\"Monica Rambeau\", 1984, 'Photon',          800)\n",
    "carol     = Superhero(\"Carol Danvers\",  1964, 'Captain Marvel', 1000)\n",
    "\n",
    "# For later, we'll add them to a list:\n",
    "superheroes = [bucky, steve, tony, hulk, rhodey, wanda, vision, spiderman, starlord, photon, carol]"
   ]
  },
  {
   "cell_type": "code",
   "execution_count": null,
   "metadata": {},
   "outputs": [],
   "source": [
    "# Add your code for the fight here:\n",
    "\n"
   ]
  },
  {
   "cell_type": "code",
   "execution_count": null,
   "metadata": {},
   "outputs": [],
   "source": [
    "print(\"Fallen Heroes:\\n\")\n",
    "\n",
    "# Add your code here:\n",
    "\n"
   ]
  },
  {
   "cell_type": "markdown",
   "metadata": {},
   "source": [
    "---\n",
    "## Task 2.5:\n",
    "\n",
    "Now, there is **Iron Fist**, who is able to heal others with his power.\n",
    "\n",
    "We model this by again inherting from `Superhero` and calling the new class `HealingSuperhero`. They have an additional `.heal()` instance method that receives another `Superhero` and similar to the `.fight()` method, adds their own powerlevel to the other hero.\n",
    "\n",
    "- Define the class `HealingSuperhero` with the additional instance method `.heal(self, other)`\n",
    "- Create a variable `danny` and instantiate a new `HealingSuperhero`. His civial name is \"Danny Rand\", he is born on April 1st, 1991, and has a powerlevel of 250.\n",
    "- Use his additional power to heal all other superheroes. (In the Marvel Universe(s) nobody ever dies.)"
   ]
  },
  {
   "cell_type": "code",
   "execution_count": null,
   "metadata": {},
   "outputs": [],
   "source": [
    "# Add your code here:\n",
    "\n"
   ]
  },
  {
   "cell_type": "code",
   "execution_count": null,
   "metadata": {},
   "outputs": [],
   "source": [
    "# We print the new levels.\n",
    "for superhero in superheroes:\n",
    "    print(superhero)"
   ]
  }
 ],
 "metadata": {
  "colab": {
   "collapsed_sections": [],
   "name": "Assignment_02_Solution.ipynb",
   "provenance": []
  },
  "copyright": {
   "author": "Bernhard Bermeitinger",
   "email": "bernhard.bermeitinger@unisg.ch"
  },
  "kernelspec": {
   "display_name": "Python 3 (ipykernel)",
   "language": "python",
   "name": "python3"
  },
  "language_info": {
   "codemirror_mode": {
    "name": "ipython",
    "version": 3
   },
   "file_extension": ".py",
   "mimetype": "text/x-python",
   "name": "python",
   "nbconvert_exporter": "python",
   "pygments_lexer": "ipython3",
   "version": "3.11.5"
  },
  "toc-autonumbering": false,
  "toc-showcode": false,
  "vscode": {
   "interpreter": {
    "hash": "308bf71e532693dd7977217f267894072a5c196c2c65186b0c51db5bdbf327c1"
   }
  }
 },
 "nbformat": 4,
 "nbformat_minor": 4
}
